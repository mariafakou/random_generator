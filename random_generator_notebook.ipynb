{
 "cells": [
  {
   "cell_type": "code",
   "execution_count": 1,
   "id": "6144c722-da78-451b-a2c0-7fc62197b8f1",
   "metadata": {},
   "outputs": [],
   "source": [
    "import pandas as pd\n",
    "import names\n",
    "import random"
   ]
  },
  {
   "cell_type": "code",
   "execution_count": 2,
   "id": "20adeae5-4156-4d8a-8998-c1aefea3fb36",
   "metadata": {},
   "outputs": [],
   "source": [
    "full_names = [names.get_full_name() for i in range(30)]"
   ]
  },
  {
   "cell_type": "code",
   "execution_count": 3,
   "id": "58c7f406-565f-46b7-b824-0d391617ea73",
   "metadata": {},
   "outputs": [],
   "source": [
    "country_codes = ['DE', 'GR', 'BG', 'TH']\n",
    "projects = ['A', 'B', 'C']"
   ]
  },
  {
   "cell_type": "code",
   "execution_count": 10,
   "id": "2d8e2538-6e41-4ce0-afaa-56ef9465884c",
   "metadata": {},
   "outputs": [],
   "source": [
    "countries, levels, no_projects = zip(*[(random.choice(country_codes), random.randint(2, 5), random.randint(1, len(projects))) for i in range(len(full_names))])"
   ]
  },
  {
   "cell_type": "code",
   "execution_count": 37,
   "id": "1419d959-9603-4144-867a-21098ba4982c",
   "metadata": {},
   "outputs": [],
   "source": [
    "dict = {'name_surname_combined': full_names, 'country_code': countries, 'level': levels, 'project': no_projects} \n",
    "df = pd.DataFrame(dict)\n",
    "df[['name','surname']] = df['name_surname_combined'].str.split(' ', expand=True)"
   ]
  },
  {
   "cell_type": "code",
   "execution_count": 40,
   "id": "214c1f14-4783-4017-9408-fe0466cf574e",
   "metadata": {},
   "outputs": [],
   "source": [
    "df.project = df.project.apply(lambda x: random.sample(projects, x))\n",
    "df2 = df.explode('project')"
   ]
  },
  {
   "cell_type": "code",
   "execution_count": 43,
   "id": "71a32291-2a72-4258-809f-8bbd6890e3ba",
   "metadata": {},
   "outputs": [],
   "source": [
    "final_df = df2[['name', 'surname', 'name_surname_combined', 'country_code', 'level', 'project']].reset_index()\n",
    "final_df.to_csv('C:/Users/Maria.Fakou/Downloads/report.csv', index=False)"
   ]
  }
 ],
 "metadata": {
  "kernelspec": {
   "display_name": "Python 3 (ipykernel)",
   "language": "python",
   "name": "python3"
  },
  "language_info": {
   "codemirror_mode": {
    "name": "ipython",
    "version": 3
   },
   "file_extension": ".py",
   "mimetype": "text/x-python",
   "name": "python",
   "nbconvert_exporter": "python",
   "pygments_lexer": "ipython3",
   "version": "3.11.0"
  }
 },
 "nbformat": 4,
 "nbformat_minor": 5
}
